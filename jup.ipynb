{
 "cells": [
  {
   "cell_type": "code",
   "execution_count": 2,
   "metadata": {},
   "outputs": [
    {
     "name": "stdout",
     "output_type": "stream",
     "text": [
      "                ID                                            English  \\\n",
      "0      ID_IFVTMXW8        F_all back to threading messages by subject   \n",
      "1      ID_SBXUPXE3  You will have to restart GIMP for the followin...   \n",
      "2      ID_ZOCZ3PXQ  The radio button whose group this widget belon...   \n",
      "3      ID_6AVBJ1YS           Print all subdirectories in a directory.   \n",
      "4      ID_FW4V44WK  Paste the contents of the clipboard as a new i...   \n",
      "...            ...                                                ...   \n",
      "20585  ID_T3D2IRD5  Yes. We plan to support major CCD cameras and ...   \n",
      "20586  ID_JWVP5ZDJ  Most likely you did not configure correctly (o...   \n",
      "20587  ID_LI4BAED3  ... too numerous others to mention who also le...   \n",
      "20588  ID_JMR2T84U  & kiten; can deinflect verbs you search for. T...   \n",
      "20589  ID_3BG7KZ98  Next you will find a full overview on all comm...   \n",
      "\n",
      "                                             Kinyarwanda  \n",
      "0                     Inyuma Kuri Ubutumwa ku Ikivugwaho  \n",
      "1      Kuri Ongera utangire kugirango i Amahinduka Ku...  \n",
      "2                           Akabuto bya Itsinda iyi Kuri  \n",
      "3              Byose Ububiko bwungirije in a bushyinguro  \n",
      "4      i Ibigize Bya i Ububikokoporora Nka A Gishya I...  \n",
      "...                                                  ...  \n",
      "20585  . Kuri Gushigikira na na Gushigikira ya: Biren...  \n",
      "20586  OYA Kugena Imiterere (Cyangwa OYA Ku Byose?) i...  \n",
      "20587            ... Ibindi: Kuri na Bayite Bya Bidakora  \n",
      "20588  & kiten; Shakisha ya:. Gushoboza iyi, Ubwoko i...  \n",
      "20589  Gushaka A Cyuzuye Incamake ku Byose Amabwiriza...  \n",
      "\n",
      "[20590 rows x 3 columns]\n"
     ]
    }
   ],
   "source": [
    "import pandas as pd\n",
    "\n",
    "data = pd.read_csv('Eng_Kin-Paralleldata.csv')\n",
    "\n",
    "print(data)"
   ]
  }
 ],
 "metadata": {
  "kernelspec": {
   "display_name": "Python 3.10.1 64-bit",
   "language": "python",
   "name": "python3"
  },
  "language_info": {
   "codemirror_mode": {
    "name": "ipython",
    "version": 3
   },
   "file_extension": ".py",
   "mimetype": "text/x-python",
   "name": "python",
   "nbconvert_exporter": "python",
   "pygments_lexer": "ipython3",
   "version": "3.10.1"
  },
  "orig_nbformat": 4,
  "vscode": {
   "interpreter": {
    "hash": "f7c19bdbeff2cc542c297408d0269d248cb785f597675f91c8188bb754f1fd65"
   }
  }
 },
 "nbformat": 4,
 "nbformat_minor": 2
}
